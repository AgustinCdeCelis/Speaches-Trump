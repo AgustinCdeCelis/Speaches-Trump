{
 "cells": [
  {
   "cell_type": "code",
   "execution_count": 1,
   "metadata": {},
   "outputs": [],
   "source": [
    "from requests_html import HTMLSession\n",
    "from bs4 import BeautifulSoup\n",
    "import requests\n",
    "import re\n",
    "import numpy as np\n",
    "import pandas as pd\n",
    "import socket\n",
    "from urllib3.connection import HTTPConnection"
   ]
  },
  {
   "cell_type": "code",
   "execution_count": 2,
   "metadata": {},
   "outputs": [],
   "source": [
    "HTTPConnection.default_socket_options = (\n",
    "    HTTPConnection.default_socket_options + [\n",
    "        (socket.SOL_SOCKET, socket.SO_KEEPALIVE, 1),\n",
    "        (socket.SOL_TCP, socket.TCP_KEEPIDLE, 45),\n",
    "        (socket.SOL_TCP, socket.TCP_KEEPINTVL, 10),\n",
    "        (socket.SOL_TCP, socket.TCP_KEEPCNT, 6)\n",
    "    ] )"
   ]
  },
  {
   "cell_type": "code",
   "execution_count": 63,
   "metadata": {},
   "outputs": [],
   "source": [
    "s = HTMLSession()\n",
    "\n",
    "r = s.get('https://millercenter.org/the-presidency/presidential-speeches?field_president_target_id[8396]=8396')\n",
    "\n",
    "\n",
    "soup= BeautifulSoup(r.text,'html.parser')\n",
    "\n",
    "\n",
    "discursos = []\n",
    "titulo= []\n",
    "for speach in soup.find_all('div',class_='views-row') :\n",
    "    link = speach.a.get('href')\n",
    "\n",
    "    full_link = 'https://millercenter.org'+str(link)\n",
    "\n",
    "    r_=s.get(full_link)\n",
    "    \n",
    "    soup_ =BeautifulSoup(r_.text,'html.parser')\n",
    "\n",
    "    title = soup_.find('h2',class_='presidential-speeches--title').span.text\n",
    "    \n",
    "    titulo.append(title)\n",
    "\n",
    "    full_discurso = soup_.find('div',class_= 'view-transcript')\n",
    "    \n",
    "    total = full_discurso.find_all('p')\n",
    "\n",
    "    \n",
    "\n",
    "    total = [elem.get_text() for elem in total]\n",
    "\n",
    "    #taking out the list of list\n",
    "\n",
    "    discursos.append(total)\n",
    "    \n",
    "    \n"
   ]
  },
  {
   "cell_type": "code",
   "execution_count": null,
   "metadata": {},
   "outputs": [],
   "source": []
  },
  {
   "cell_type": "code",
   "execution_count": 64,
   "metadata": {},
   "outputs": [
    {
     "data": {
      "text/plain": [
       "12"
      ]
     },
     "execution_count": 64,
     "metadata": {},
     "output_type": "execute_result"
    }
   ],
   "source": [
    "res = [''.join(ele) for ele in discursos]\n",
    "\n",
    "len(res)"
   ]
  },
  {
   "cell_type": "code",
   "execution_count": 39,
   "metadata": {},
   "outputs": [
    {
     "data": {
      "text/plain": [
       "12"
      ]
     },
     "execution_count": 39,
     "metadata": {},
     "output_type": "execute_result"
    }
   ],
   "source": [
    "len(discursos)"
   ]
  },
  {
   "cell_type": "code",
   "execution_count": 47,
   "metadata": {},
   "outputs": [
    {
     "data": {
      "text/plain": [
       "['January 19, 2021: Farewell Address',\n",
       " 'January 13, 2021: Statement about the Violence at the Capitol',\n",
       " 'January 7, 2021: Message After Pro-Trump Mob Overruns US Capitol',\n",
       " 'January 6, 2021: Speech Urging Supporters to Go Home',\n",
       " 'November 5, 2020: Remarks on the 2020 Election',\n",
       " 'October 26, 2020: Swearing-In Ceremony of the Honorable Amy Coney Barrett to the US Supreme Court ',\n",
       " 'September 26, 2020: Announcing His Nominee for the US Supreme Court',\n",
       " 'September 7, 2020: Labor Day Press Conference',\n",
       " 'August 8, 2020: Press Conference on Executive Orders',\n",
       " 'July 4, 2020: Remarks at Salute to America',\n",
       " 'June 20, 2020: Campaign Rally in Tulsa, Oklahoma',\n",
       " 'June 13, 2020: Address at West Point Graduation']"
      ]
     },
     "execution_count": 47,
     "metadata": {},
     "output_type": "execute_result"
    }
   ],
   "source": [
    "titulo"
   ]
  },
  {
   "cell_type": "code",
   "execution_count": 49,
   "metadata": {},
   "outputs": [],
   "source": [
    "fecha = [i.split(':')[0] for i in titulo]\n",
    "\n",
    "discursos_titulo = [i.split(':')[1] for i in titulo]"
   ]
  },
  {
   "cell_type": "code",
   "execution_count": 50,
   "metadata": {},
   "outputs": [
    {
     "data": {
      "text/plain": [
       "['January 19, 2021',\n",
       " 'January 13, 2021',\n",
       " 'January 7, 2021',\n",
       " 'January 6, 2021',\n",
       " 'November 5, 2020',\n",
       " 'October 26, 2020',\n",
       " 'September 26, 2020',\n",
       " 'September 7, 2020',\n",
       " 'August 8, 2020',\n",
       " 'July 4, 2020',\n",
       " 'June 20, 2020',\n",
       " 'June 13, 2020']"
      ]
     },
     "execution_count": 50,
     "metadata": {},
     "output_type": "execute_result"
    }
   ],
   "source": [
    "fecha"
   ]
  },
  {
   "cell_type": "code",
   "execution_count": 51,
   "metadata": {},
   "outputs": [
    {
     "data": {
      "text/plain": [
       "[' Farewell Address',\n",
       " ' Statement about the Violence at the Capitol',\n",
       " ' Message After Pro-Trump Mob Overruns US Capitol',\n",
       " ' Speech Urging Supporters to Go Home',\n",
       " ' Remarks on the 2020 Election',\n",
       " ' Swearing-In Ceremony of the Honorable Amy Coney Barrett to the US Supreme Court ',\n",
       " ' Announcing His Nominee for the US Supreme Court',\n",
       " ' Labor Day Press Conference',\n",
       " ' Press Conference on Executive Orders',\n",
       " ' Remarks at Salute to America',\n",
       " ' Campaign Rally in Tulsa, Oklahoma',\n",
       " ' Address at West Point Graduation']"
      ]
     },
     "execution_count": 51,
     "metadata": {},
     "output_type": "execute_result"
    }
   ],
   "source": [
    "discursos_titulo"
   ]
  },
  {
   "cell_type": "code",
   "execution_count": 65,
   "metadata": {},
   "outputs": [],
   "source": [
    "df = pd.DataFrame({'titulo':discursos_titulo,'fecha':fecha,'discurso':res})"
   ]
  },
  {
   "cell_type": "code",
   "execution_count": 66,
   "metadata": {},
   "outputs": [
    {
     "data": {
      "text/html": [
       "<div>\n",
       "<style scoped>\n",
       "    .dataframe tbody tr th:only-of-type {\n",
       "        vertical-align: middle;\n",
       "    }\n",
       "\n",
       "    .dataframe tbody tr th {\n",
       "        vertical-align: top;\n",
       "    }\n",
       "\n",
       "    .dataframe thead th {\n",
       "        text-align: right;\n",
       "    }\n",
       "</style>\n",
       "<table border=\"1\" class=\"dataframe\">\n",
       "  <thead>\n",
       "    <tr style=\"text-align: right;\">\n",
       "      <th></th>\n",
       "      <th>titulo</th>\n",
       "      <th>fecha</th>\n",
       "      <th>discurso</th>\n",
       "    </tr>\n",
       "  </thead>\n",
       "  <tbody>\n",
       "    <tr>\n",
       "      <th>0</th>\n",
       "      <td>Farewell Address</td>\n",
       "      <td>January 19, 2021</td>\n",
       "      <td>My fellow Americans: Four years ago, we launch...</td>\n",
       "    </tr>\n",
       "    <tr>\n",
       "      <th>1</th>\n",
       "      <td>Statement about the Violence at the Capitol</td>\n",
       "      <td>January 13, 2021</td>\n",
       "      <td>My fellow Americans, I want to speak to you to...</td>\n",
       "    </tr>\n",
       "    <tr>\n",
       "      <th>2</th>\n",
       "      <td>Message After Pro-Trump Mob Overruns US Capitol</td>\n",
       "      <td>January 7, 2021</td>\n",
       "      <td>I would like to begin by addressing the heinou...</td>\n",
       "    </tr>\n",
       "    <tr>\n",
       "      <th>3</th>\n",
       "      <td>Speech Urging Supporters to Go Home</td>\n",
       "      <td>January 6, 2021</td>\n",
       "      <td>I know your pain. I know your hurt.We had an e...</td>\n",
       "    </tr>\n",
       "    <tr>\n",
       "      <th>4</th>\n",
       "      <td>Remarks on the 2020 Election</td>\n",
       "      <td>November 5, 2020</td>\n",
       "      <td>THE PRESIDENT: Good evening. I’d like to provi...</td>\n",
       "    </tr>\n",
       "    <tr>\n",
       "      <th>5</th>\n",
       "      <td>Swearing-In Ceremony of the Honorable Amy Con...</td>\n",
       "      <td>October 26, 2020</td>\n",
       "      <td>THE PRESIDENT:  Thank you very much.  Appreci...</td>\n",
       "    </tr>\n",
       "    <tr>\n",
       "      <th>6</th>\n",
       "      <td>Announcing His Nominee for the US Supreme Court</td>\n",
       "      <td>September 26, 2020</td>\n",
       "      <td>THE PRESIDENT: Thank you very much. Thank you....</td>\n",
       "    </tr>\n",
       "    <tr>\n",
       "      <th>7</th>\n",
       "      <td>Labor Day Press Conference</td>\n",
       "      <td>September 7, 2020</td>\n",
       "      <td>THE PRESIDENT: Thank you very much. Thank you....</td>\n",
       "    </tr>\n",
       "    <tr>\n",
       "      <th>8</th>\n",
       "      <td>Press Conference on Executive Orders</td>\n",
       "      <td>August 8, 2020</td>\n",
       "      <td>Thank you very much everybody. Thank you, and ...</td>\n",
       "    </tr>\n",
       "    <tr>\n",
       "      <th>9</th>\n",
       "      <td>Remarks at Salute to America</td>\n",
       "      <td>July 4, 2020</td>\n",
       "      <td>THE PRESIDENT: Wow. Are you having a good time...</td>\n",
       "    </tr>\n",
       "    <tr>\n",
       "      <th>10</th>\n",
       "      <td>Campaign Rally in Tulsa, Oklahoma</td>\n",
       "      <td>June 20, 2020</td>\n",
       "      <td>Thank you, thank you. So we begin, Oklahoma, w...</td>\n",
       "    </tr>\n",
       "    <tr>\n",
       "      <th>11</th>\n",
       "      <td>Address at West Point Graduation</td>\n",
       "      <td>June 13, 2020</td>\n",
       "      <td>Thank you, General, and hello cadets. On behal...</td>\n",
       "    </tr>\n",
       "  </tbody>\n",
       "</table>\n",
       "</div>"
      ],
      "text/plain": [
       "                                               titulo               fecha  \\\n",
       "0                                    Farewell Address    January 19, 2021   \n",
       "1         Statement about the Violence at the Capitol    January 13, 2021   \n",
       "2     Message After Pro-Trump Mob Overruns US Capitol     January 7, 2021   \n",
       "3                 Speech Urging Supporters to Go Home     January 6, 2021   \n",
       "4                        Remarks on the 2020 Election    November 5, 2020   \n",
       "5    Swearing-In Ceremony of the Honorable Amy Con...    October 26, 2020   \n",
       "6     Announcing His Nominee for the US Supreme Court  September 26, 2020   \n",
       "7                          Labor Day Press Conference   September 7, 2020   \n",
       "8                Press Conference on Executive Orders      August 8, 2020   \n",
       "9                        Remarks at Salute to America        July 4, 2020   \n",
       "10                  Campaign Rally in Tulsa, Oklahoma       June 20, 2020   \n",
       "11                   Address at West Point Graduation       June 13, 2020   \n",
       "\n",
       "                                             discurso  \n",
       "0   My fellow Americans: Four years ago, we launch...  \n",
       "1   My fellow Americans, I want to speak to you to...  \n",
       "2   I would like to begin by addressing the heinou...  \n",
       "3   I know your pain. I know your hurt.We had an e...  \n",
       "4   THE PRESIDENT: Good evening. I’d like to provi...  \n",
       "5    THE PRESIDENT:  Thank you very much.  Appreci...  \n",
       "6   THE PRESIDENT: Thank you very much. Thank you....  \n",
       "7   THE PRESIDENT: Thank you very much. Thank you....  \n",
       "8   Thank you very much everybody. Thank you, and ...  \n",
       "9   THE PRESIDENT: Wow. Are you having a good time...  \n",
       "10  Thank you, thank you. So we begin, Oklahoma, w...  \n",
       "11  Thank you, General, and hello cadets. On behal...  "
      ]
     },
     "execution_count": 66,
     "metadata": {},
     "output_type": "execute_result"
    }
   ],
   "source": [
    "df"
   ]
  }
 ],
 "metadata": {
  "kernelspec": {
   "display_name": "Python 3",
   "language": "python",
   "name": "python3"
  },
  "language_info": {
   "codemirror_mode": {
    "name": "ipython",
    "version": 3
   },
   "file_extension": ".py",
   "mimetype": "text/x-python",
   "name": "python",
   "nbconvert_exporter": "python",
   "pygments_lexer": "ipython3",
   "version": "3.10.4"
  },
  "orig_nbformat": 4,
  "vscode": {
   "interpreter": {
    "hash": "f2ccb58c476f33ba3e3aee7ac07234ef6b8217ef24ad64d2a7d4fed1a57c1cd2"
   }
  }
 },
 "nbformat": 4,
 "nbformat_minor": 2
}
